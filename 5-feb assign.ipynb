{
 "cells": [
  {
   "cell_type": "code",
   "execution_count": null,
   "id": "8f05aa44-36b9-4d24-878b-e48e557c3887",
   "metadata": {},
   "outputs": [],
   "source": [
    "# Q1. Explain Class and Object with respect to Object-Oriented Programming. Give a suitable example.\n",
    "'''Object − Objects have states and behaviors.\n",
    "Example: A dog has states - color, name, breed as well as\n",
    "behaviors – wagging the tail, barking, eating. An object is an instance of a class.'''\n",
    "\n",
    "'''Class − A class can be defined as a template/blueprint that describes the behavior/state that the object of its type support.'''\n",
    "\n",
    "class ClassName:\n",
    "    # class definition \n",
    "\n",
    "# create class\n",
    "class Bike:\n",
    "    name = \"\"\n",
    "    gear = 0\n",
    "\n",
    "# create objects of class\n",
    "bike1 = Bike()"
   ]
  },
  {
   "cell_type": "code",
   "execution_count": null,
   "id": "4822dbf2-c37d-42ec-a70f-512fc2c127ea",
   "metadata": {},
   "outputs": [],
   "source": [
    "# Q2. Name the four pillars of OOPs.\n",
    "'''\n",
    "1.Inheritance\n",
    "2.Polymorphism\n",
    "3.Encapsulation\n",
    "4.Abstraction.\n",
    "'''"
   ]
  },
  {
   "cell_type": "code",
   "execution_count": 2,
   "id": "0bd396b5-0c98-4dca-a3bc-cd9d6d576f00",
   "metadata": {},
   "outputs": [
    {
     "name": "stdout",
     "output_type": "stream",
     "text": [
      "Bishu\n",
      "21\n"
     ]
    }
   ],
   "source": [
    "# Q3. Explain why the __init__() function is used. Give a suitable example.\n",
    "\n",
    "'''\n",
    "To understand the meaning of classes we have to understand the built-in __init__() function.\n",
    "\n",
    "All classes have a function called __init__(), which is always executed when the class is being initiated.\n",
    "\n",
    "Use the __init__() function to assign values to object properties, or other operations that are necessary to do when the object is being created:\n",
    "'''\n",
    "class Person:\n",
    "    def __init__(self, name, age):\n",
    "        self.name = name\n",
    "        self.age = age\n",
    "\n",
    "p1 = Person(\"Bishu\", 21)\n",
    "\n",
    "print(p1.name)\n",
    "print(p1.age)\n"
   ]
  },
  {
   "cell_type": "code",
   "execution_count": 4,
   "id": "1b4049ab-6ecc-4401-b522-2a46c7740eb8",
   "metadata": {},
   "outputs": [],
   "source": [
    "# Q4. Why self is used in OOPs?\n",
    "'''\n",
    "The self is used to represent the instance of the class.\n",
    "With this keyword, you can access the attributes and methods of the class in python. \n",
    "It binds the attributes with the given arguments\n",
    "'''"
   ]
  },
  {
   "cell_type": "code",
   "execution_count": null,
   "id": "ea99533f-a7eb-4e7f-9b93-16fde474aa89",
   "metadata": {},
   "outputs": [],
   "source": [
    "# Q5. What is inheritance? Give an example for each type of inheritance.\n",
    "\n",
    "'''\n",
    "The class which got inherited is called a parent class or superclass or base class.\n",
    "\n",
    "The class which inherited the parent class is called a child class or subclass or derived class or extended class.\n",
    "'''\n",
    "'''\n",
    "\n",
    "'''\n"
   ]
  }
 ],
 "metadata": {
  "kernelspec": {
   "display_name": "Python 3 (ipykernel)",
   "language": "python",
   "name": "python3"
  },
  "language_info": {
   "codemirror_mode": {
    "name": "ipython",
    "version": 3
   },
   "file_extension": ".py",
   "mimetype": "text/x-python",
   "name": "python",
   "nbconvert_exporter": "python",
   "pygments_lexer": "ipython3",
   "version": "3.10.8"
  }
 },
 "nbformat": 4,
 "nbformat_minor": 5
}
